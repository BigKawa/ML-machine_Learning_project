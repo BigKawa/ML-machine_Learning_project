{
 "cells": [
  {
   "cell_type": "code",
   "execution_count": 1,
   "metadata": {},
   "outputs": [],
   "source": [
    "# from kaggle.api.kaggle_api_extended import KaggleApi\n",
    "# import kagglehub\n",
    "# import kaggle\n",
    "# Initiliaze API"
   ]
  },
  {
   "cell_type": "code",
   "execution_count": 36,
   "metadata": {},
   "outputs": [],
   "source": [
    "\n",
    "from sklearn import *\n",
    "import pandas as pd\n",
    "import seaborn as sns\n",
    "# Donwload Dataset via API unzipped\n",
    "# api.dataset_download_files(dataset=\"prathamtripathi/drug-classification\", unzip=True)\n",
    "import numpy as np\n",
    "import matplotlib.pyplot as plt\n",
    "import seaborn as sns\n",
    "from sklearn.model_selection import train_test_split\n",
    "from sklearn.neighbors import KNeighborsRegressor\n",
    "from sklearn.neighbors import KNeighborsClassifier\n",
    "from sklearn.preprocessing import MinMaxScaler, StandardScaler\n",
    "from sklearn.metrics import accuracy_score, f1_score, confusion_matrix, classification_report\n",
    "from sklearn.ensemble import RandomForestClassifier,BaggingClassifier\n",
    "from sklearn.linear_model import LogisticRegression\n",
    "from sklearn.model_selection import GridSearchCV\n"
   ]
  },
  {
   "cell_type": "code",
   "execution_count": 3,
   "metadata": {},
   "outputs": [],
   "source": [
    "lol_df = pd.read_csv(\"Challenger_Ranked_Games_15minute.csv\")"
   ]
  },
  {
   "cell_type": "code",
   "execution_count": 4,
   "metadata": {},
   "outputs": [
    {
     "name": "stdout",
     "output_type": "stream",
     "text": [
      "Number of differences: 26834\n"
     ]
    }
   ],
   "source": [
    "# Count the number of differences\n",
    "difference_count = (lol_df['blueWins'] != lol_df['redWins']).sum()\n",
    "\n",
    "print(f\"Number of differences: {difference_count}\")"
   ]
  },
  {
   "cell_type": "code",
   "execution_count": 5,
   "metadata": {},
   "outputs": [],
   "source": [
    "#lol_df = lol_df.drop(columns=['redFirstBlood', 'blueFirstBlood'])\n",
    "lol_df = lol_df.drop_duplicates()"
   ]
  },
  {
   "cell_type": "code",
   "execution_count": null,
   "metadata": {},
   "outputs": [],
   "source": [
    "# Converting object columns to dummy variables\n",
    "lol_df = pd.get_dummies(lol_df)"
   ]
  },
  {
   "cell_type": "markdown",
   "metadata": {},
   "source": [
    "# Dropping features which are highly correlated with each other"
   ]
  },
  {
   "cell_type": "code",
   "execution_count": 7,
   "metadata": {},
   "outputs": [
    {
     "data": {
      "text/html": [
       "<div>\n",
       "<style scoped>\n",
       "    .dataframe tbody tr th:only-of-type {\n",
       "        vertical-align: middle;\n",
       "    }\n",
       "\n",
       "    .dataframe tbody tr th {\n",
       "        vertical-align: top;\n",
       "    }\n",
       "\n",
       "    .dataframe thead th {\n",
       "        text-align: right;\n",
       "    }\n",
       "</style>\n",
       "<table border=\"1\" class=\"dataframe\">\n",
       "  <thead>\n",
       "    <tr style=\"text-align: right;\">\n",
       "      <th></th>\n",
       "      <th>gameId</th>\n",
       "      <th>blueWins</th>\n",
       "      <th>blueTotalGolds</th>\n",
       "      <th>blueCurrentGolds</th>\n",
       "      <th>blueTotalLevel</th>\n",
       "      <th>blueAvgLevel</th>\n",
       "      <th>blueTotalMinionKills</th>\n",
       "      <th>blueTotalJungleMinionKills</th>\n",
       "      <th>blueFirstBlood</th>\n",
       "      <th>blueKill</th>\n",
       "      <th>...</th>\n",
       "      <th>redDragnoType_['WATER_DRAGON', 'AIR_DRAGON', 'FIRE_DRAGON']</th>\n",
       "      <th>redDragnoType_['WATER_DRAGON', 'AIR_DRAGON']</th>\n",
       "      <th>redDragnoType_['WATER_DRAGON', 'EARTH_DRAGON', 'AIR_DRAGON', 'AIR_DRAGON']</th>\n",
       "      <th>redDragnoType_['WATER_DRAGON', 'EARTH_DRAGON']</th>\n",
       "      <th>redDragnoType_['WATER_DRAGON', 'FIRE_DRAGON', 'AIR_DRAGON']</th>\n",
       "      <th>redDragnoType_['WATER_DRAGON', 'FIRE_DRAGON', 'EARTH_DRAGON']</th>\n",
       "      <th>redDragnoType_['WATER_DRAGON', 'FIRE_DRAGON']</th>\n",
       "      <th>redDragnoType_['WATER_DRAGON', 'WATER_DRAGON']</th>\n",
       "      <th>redDragnoType_['WATER_DRAGON']</th>\n",
       "      <th>redDragnoType_[]</th>\n",
       "    </tr>\n",
       "  </thead>\n",
       "  <tbody>\n",
       "    <tr>\n",
       "      <th>gameId</th>\n",
       "      <td>1.000000</td>\n",
       "      <td>-0.005397</td>\n",
       "      <td>0.001830</td>\n",
       "      <td>-0.009425</td>\n",
       "      <td>0.040736</td>\n",
       "      <td>0.040736</td>\n",
       "      <td>-0.076390</td>\n",
       "      <td>-0.041898</td>\n",
       "      <td>NaN</td>\n",
       "      <td>0.001016</td>\n",
       "      <td>...</td>\n",
       "      <td>-0.001389</td>\n",
       "      <td>0.008220</td>\n",
       "      <td>-0.002263</td>\n",
       "      <td>0.002762</td>\n",
       "      <td>-0.004503</td>\n",
       "      <td>-0.006312</td>\n",
       "      <td>-0.006266</td>\n",
       "      <td>-0.024747</td>\n",
       "      <td>-0.003234</td>\n",
       "      <td>0.016960</td>\n",
       "    </tr>\n",
       "    <tr>\n",
       "      <th>blueWins</th>\n",
       "      <td>-0.005397</td>\n",
       "      <td>1.000000</td>\n",
       "      <td>0.225555</td>\n",
       "      <td>0.261220</td>\n",
       "      <td>0.162420</td>\n",
       "      <td>0.162420</td>\n",
       "      <td>0.160936</td>\n",
       "      <td>0.137863</td>\n",
       "      <td>NaN</td>\n",
       "      <td>0.279579</td>\n",
       "      <td>...</td>\n",
       "      <td>-0.008202</td>\n",
       "      <td>-0.072166</td>\n",
       "      <td>-0.006112</td>\n",
       "      <td>-0.069009</td>\n",
       "      <td>-0.006112</td>\n",
       "      <td>-0.006114</td>\n",
       "      <td>-0.081301</td>\n",
       "      <td>0.010583</td>\n",
       "      <td>-0.047865</td>\n",
       "      <td>0.296870</td>\n",
       "    </tr>\n",
       "    <tr>\n",
       "      <th>blueTotalGolds</th>\n",
       "      <td>0.001830</td>\n",
       "      <td>0.225555</td>\n",
       "      <td>1.000000</td>\n",
       "      <td>0.361546</td>\n",
       "      <td>0.919173</td>\n",
       "      <td>0.919173</td>\n",
       "      <td>-0.203182</td>\n",
       "      <td>-0.378317</td>\n",
       "      <td>NaN</td>\n",
       "      <td>0.917561</td>\n",
       "      <td>...</td>\n",
       "      <td>0.051194</td>\n",
       "      <td>-0.043565</td>\n",
       "      <td>0.025898</td>\n",
       "      <td>-0.039175</td>\n",
       "      <td>0.027971</td>\n",
       "      <td>0.046982</td>\n",
       "      <td>-0.040577</td>\n",
       "      <td>0.017233</td>\n",
       "      <td>-0.074038</td>\n",
       "      <td>0.274931</td>\n",
       "    </tr>\n",
       "    <tr>\n",
       "      <th>blueCurrentGolds</th>\n",
       "      <td>-0.009425</td>\n",
       "      <td>0.261220</td>\n",
       "      <td>0.361546</td>\n",
       "      <td>1.000000</td>\n",
       "      <td>0.303369</td>\n",
       "      <td>0.303369</td>\n",
       "      <td>-0.044676</td>\n",
       "      <td>-0.099753</td>\n",
       "      <td>NaN</td>\n",
       "      <td>0.377635</td>\n",
       "      <td>...</td>\n",
       "      <td>0.006676</td>\n",
       "      <td>-0.039992</td>\n",
       "      <td>0.013962</td>\n",
       "      <td>-0.036403</td>\n",
       "      <td>0.000323</td>\n",
       "      <td>0.001936</td>\n",
       "      <td>-0.024224</td>\n",
       "      <td>0.002096</td>\n",
       "      <td>-0.045992</td>\n",
       "      <td>0.190912</td>\n",
       "    </tr>\n",
       "    <tr>\n",
       "      <th>blueTotalLevel</th>\n",
       "      <td>0.040736</td>\n",
       "      <td>0.162420</td>\n",
       "      <td>0.919173</td>\n",
       "      <td>0.303369</td>\n",
       "      <td>1.000000</td>\n",
       "      <td>1.000000</td>\n",
       "      <td>-0.178894</td>\n",
       "      <td>-0.388435</td>\n",
       "      <td>NaN</td>\n",
       "      <td>0.800904</td>\n",
       "      <td>...</td>\n",
       "      <td>0.033329</td>\n",
       "      <td>-0.036256</td>\n",
       "      <td>0.015903</td>\n",
       "      <td>-0.031122</td>\n",
       "      <td>0.017331</td>\n",
       "      <td>0.021814</td>\n",
       "      <td>-0.034913</td>\n",
       "      <td>0.010237</td>\n",
       "      <td>-0.071560</td>\n",
       "      <td>0.251489</td>\n",
       "    </tr>\n",
       "  </tbody>\n",
       "</table>\n",
       "<p>5 rows × 156 columns</p>\n",
       "</div>"
      ],
      "text/plain": [
       "                    gameId  blueWins  blueTotalGolds  blueCurrentGolds  \\\n",
       "gameId            1.000000 -0.005397        0.001830         -0.009425   \n",
       "blueWins         -0.005397  1.000000        0.225555          0.261220   \n",
       "blueTotalGolds    0.001830  0.225555        1.000000          0.361546   \n",
       "blueCurrentGolds -0.009425  0.261220        0.361546          1.000000   \n",
       "blueTotalLevel    0.040736  0.162420        0.919173          0.303369   \n",
       "\n",
       "                  blueTotalLevel  blueAvgLevel  blueTotalMinionKills  \\\n",
       "gameId                  0.040736      0.040736             -0.076390   \n",
       "blueWins                0.162420      0.162420              0.160936   \n",
       "blueTotalGolds          0.919173      0.919173             -0.203182   \n",
       "blueCurrentGolds        0.303369      0.303369             -0.044676   \n",
       "blueTotalLevel          1.000000      1.000000             -0.178894   \n",
       "\n",
       "                  blueTotalJungleMinionKills  blueFirstBlood  blueKill  ...  \\\n",
       "gameId                             -0.041898             NaN  0.001016  ...   \n",
       "blueWins                            0.137863             NaN  0.279579  ...   \n",
       "blueTotalGolds                     -0.378317             NaN  0.917561  ...   \n",
       "blueCurrentGolds                   -0.099753             NaN  0.377635  ...   \n",
       "blueTotalLevel                     -0.388435             NaN  0.800904  ...   \n",
       "\n",
       "                  redDragnoType_['WATER_DRAGON', 'AIR_DRAGON', 'FIRE_DRAGON']  \\\n",
       "gameId                                                    -0.001389             \n",
       "blueWins                                                  -0.008202             \n",
       "blueTotalGolds                                             0.051194             \n",
       "blueCurrentGolds                                           0.006676             \n",
       "blueTotalLevel                                             0.033329             \n",
       "\n",
       "                  redDragnoType_['WATER_DRAGON', 'AIR_DRAGON']  \\\n",
       "gameId                                                0.008220   \n",
       "blueWins                                             -0.072166   \n",
       "blueTotalGolds                                       -0.043565   \n",
       "blueCurrentGolds                                     -0.039992   \n",
       "blueTotalLevel                                       -0.036256   \n",
       "\n",
       "                  redDragnoType_['WATER_DRAGON', 'EARTH_DRAGON', 'AIR_DRAGON', 'AIR_DRAGON']  \\\n",
       "gameId                                                    -0.002263                            \n",
       "blueWins                                                  -0.006112                            \n",
       "blueTotalGolds                                             0.025898                            \n",
       "blueCurrentGolds                                           0.013962                            \n",
       "blueTotalLevel                                             0.015903                            \n",
       "\n",
       "                  redDragnoType_['WATER_DRAGON', 'EARTH_DRAGON']  \\\n",
       "gameId                                                  0.002762   \n",
       "blueWins                                               -0.069009   \n",
       "blueTotalGolds                                         -0.039175   \n",
       "blueCurrentGolds                                       -0.036403   \n",
       "blueTotalLevel                                         -0.031122   \n",
       "\n",
       "                  redDragnoType_['WATER_DRAGON', 'FIRE_DRAGON', 'AIR_DRAGON']  \\\n",
       "gameId                                                    -0.004503             \n",
       "blueWins                                                  -0.006112             \n",
       "blueTotalGolds                                             0.027971             \n",
       "blueCurrentGolds                                           0.000323             \n",
       "blueTotalLevel                                             0.017331             \n",
       "\n",
       "                  redDragnoType_['WATER_DRAGON', 'FIRE_DRAGON', 'EARTH_DRAGON']  \\\n",
       "gameId                                                    -0.006312               \n",
       "blueWins                                                  -0.006114               \n",
       "blueTotalGolds                                             0.046982               \n",
       "blueCurrentGolds                                           0.001936               \n",
       "blueTotalLevel                                             0.021814               \n",
       "\n",
       "                  redDragnoType_['WATER_DRAGON', 'FIRE_DRAGON']  \\\n",
       "gameId                                                -0.006266   \n",
       "blueWins                                              -0.081301   \n",
       "blueTotalGolds                                        -0.040577   \n",
       "blueCurrentGolds                                      -0.024224   \n",
       "blueTotalLevel                                        -0.034913   \n",
       "\n",
       "                  redDragnoType_['WATER_DRAGON', 'WATER_DRAGON']  \\\n",
       "gameId                                                 -0.024747   \n",
       "blueWins                                                0.010583   \n",
       "blueTotalGolds                                          0.017233   \n",
       "blueCurrentGolds                                        0.002096   \n",
       "blueTotalLevel                                          0.010237   \n",
       "\n",
       "                  redDragnoType_['WATER_DRAGON']  redDragnoType_[]  \n",
       "gameId                                 -0.003234          0.016960  \n",
       "blueWins                               -0.047865          0.296870  \n",
       "blueTotalGolds                         -0.074038          0.274931  \n",
       "blueCurrentGolds                       -0.045992          0.190912  \n",
       "blueTotalLevel                         -0.071560          0.251489  \n",
       "\n",
       "[5 rows x 156 columns]"
      ]
     },
     "execution_count": 7,
     "metadata": {},
     "output_type": "execute_result"
    }
   ],
   "source": [
    "# Defining correlation Matrix\n",
    "lol_corr = lol_df.corr()\n",
    "lol_corr.head()"
   ]
  },
  {
   "cell_type": "markdown",
   "metadata": {},
   "source": [
    "Iterate through the correlation matrix"
   ]
  },
  {
   "cell_type": "code",
   "execution_count": 8,
   "metadata": {},
   "outputs": [],
   "source": [
    "# Threshold to consider highly correlated features\n",
    "high_threshold = 0.9\n",
    "\n",
    "# Find list pairings of highly correlated features (excluding 'blueWins')\n",
    "high_corr_pairs = []\n",
    "for i in range(len(lol_corr.columns)):\n",
    "    for j in range(i + 1, len(lol_corr.columns)):\n",
    "        if abs(lol_corr.iloc[i, j]) > high_threshold and lol_corr.index[i] != 'blueWins' and lol_corr.columns[j] != 'blueWins':\n",
    "            high_corr_pairs.append([lol_corr.index[i], lol_corr.columns[j]])\n",
    "\n",
    "# Compare correlations with 'blueWins' and determine which features to drop\n",
    "features_to_drop = []\n",
    "for pair in high_corr_pairs:\n",
    "    feature1, feature2 = pair\n",
    "    if abs(lol_corr.loc[feature1, 'blueWins']) >= abs(lol_corr.loc[feature2, 'blueWins']):\n",
    "        features_to_drop.append(feature2)  # Drop the feature with lower correlation with blueWins\n",
    "    else:\n",
    "        features_to_drop.append(feature1)\n",
    "\n",
    "# Remove duplicates from the features_to_drop list\n",
    "features_to_drop = list(set(features_to_drop))"
   ]
  },
  {
   "cell_type": "code",
   "execution_count": 9,
   "metadata": {},
   "outputs": [],
   "source": [
    "# Dropping correlated features\n",
    "lol_df_dropped = lol_df.drop(columns=features_to_drop)\n",
    "lol_df_dropped = lol_df_dropped.drop(columns=\"gameId\")"
   ]
  },
  {
   "cell_type": "markdown",
   "metadata": {},
   "source": [
    "# Dropping features which are lowly correlated with target"
   ]
  },
  {
   "cell_type": "markdown",
   "metadata": {},
   "source": [
    "Iterate through the correlation matrix"
   ]
  },
  {
   "cell_type": "code",
   "execution_count": 10,
   "metadata": {},
   "outputs": [],
   "source": [
    "# Dropping features with low correlation with target\n",
    "\n",
    "# Defining new correlation Matrix\n",
    "lol_corr = lol_df_dropped.corr()\n",
    "\n",
    "\n",
    "#\n",
    "# Threshold to consider low correlation features with 'blueWins'\n",
    "low_threshold = 0.05\n",
    "\n",
    "# Find features with correlation below the threshold with 'blueWins'\n",
    "low_corr_features = []\n",
    "for feature in lol_corr.index:\n",
    "    if feature != 'blueWins' and abs(lol_corr.loc[feature, 'blueWins']) < low_threshold:\n",
    "        low_corr_features.append(feature)\n",
    "\n",
    "# Output the list of features with low correlation to 'blueWins'"
   ]
  },
  {
   "cell_type": "code",
   "execution_count": 11,
   "metadata": {},
   "outputs": [],
   "source": [
    "lol_df_dropped_2 = lol_df_dropped.drop(columns=low_corr_features)"
   ]
  },
  {
   "cell_type": "markdown",
   "metadata": {},
   "source": [
    "# KNN Machine Learning"
   ]
  },
  {
   "cell_type": "code",
   "execution_count": 13,
   "metadata": {},
   "outputs": [],
   "source": [
    "features = lol_df_dropped_2.drop(columns=['blueWins','redWins'])\n",
    "target = lol_df_dropped_2[\"blueWins\"]"
   ]
  },
  {
   "cell_type": "code",
   "execution_count": 14,
   "metadata": {},
   "outputs": [],
   "source": [
    "X_train, X_test, y_train, y_test = train_test_split(features, target, test_size = 0.20, random_state=0)\n",
    "\n",
    "#Normalize Data after Train Split\n",
    "normalizer = MinMaxScaler() #define normalizer\n",
    "\n",
    "normalizer.fit(X_train)\n",
    "\n",
    "X_train_norm = normalizer.transform(X_train) # Normalize 80% training dats\n",
    "X_test_norm = normalizer.transform(X_test) # Normalize 20% Testing Data\n",
    "\n",
    "#Apply to test and training data\n",
    "X_train_norm = pd.DataFrame(X_train_norm, columns = X_train.columns)\n",
    "X_test_norm = pd.DataFrame(X_test_norm, columns = X_test.columns)\n"
   ]
  },
  {
   "cell_type": "code",
   "execution_count": 15,
   "metadata": {},
   "outputs": [
    {
     "data": {
      "text/html": [
       "<style>#sk-container-id-1 {\n",
       "  /* Definition of color scheme common for light and dark mode */\n",
       "  --sklearn-color-text: black;\n",
       "  --sklearn-color-line: gray;\n",
       "  /* Definition of color scheme for unfitted estimators */\n",
       "  --sklearn-color-unfitted-level-0: #fff5e6;\n",
       "  --sklearn-color-unfitted-level-1: #f6e4d2;\n",
       "  --sklearn-color-unfitted-level-2: #ffe0b3;\n",
       "  --sklearn-color-unfitted-level-3: chocolate;\n",
       "  /* Definition of color scheme for fitted estimators */\n",
       "  --sklearn-color-fitted-level-0: #f0f8ff;\n",
       "  --sklearn-color-fitted-level-1: #d4ebff;\n",
       "  --sklearn-color-fitted-level-2: #b3dbfd;\n",
       "  --sklearn-color-fitted-level-3: cornflowerblue;\n",
       "\n",
       "  /* Specific color for light theme */\n",
       "  --sklearn-color-text-on-default-background: var(--sg-text-color, var(--theme-code-foreground, var(--jp-content-font-color1, black)));\n",
       "  --sklearn-color-background: var(--sg-background-color, var(--theme-background, var(--jp-layout-color0, white)));\n",
       "  --sklearn-color-border-box: var(--sg-text-color, var(--theme-code-foreground, var(--jp-content-font-color1, black)));\n",
       "  --sklearn-color-icon: #696969;\n",
       "\n",
       "  @media (prefers-color-scheme: dark) {\n",
       "    /* Redefinition of color scheme for dark theme */\n",
       "    --sklearn-color-text-on-default-background: var(--sg-text-color, var(--theme-code-foreground, var(--jp-content-font-color1, white)));\n",
       "    --sklearn-color-background: var(--sg-background-color, var(--theme-background, var(--jp-layout-color0, #111)));\n",
       "    --sklearn-color-border-box: var(--sg-text-color, var(--theme-code-foreground, var(--jp-content-font-color1, white)));\n",
       "    --sklearn-color-icon: #878787;\n",
       "  }\n",
       "}\n",
       "\n",
       "#sk-container-id-1 {\n",
       "  color: var(--sklearn-color-text);\n",
       "}\n",
       "\n",
       "#sk-container-id-1 pre {\n",
       "  padding: 0;\n",
       "}\n",
       "\n",
       "#sk-container-id-1 input.sk-hidden--visually {\n",
       "  border: 0;\n",
       "  clip: rect(1px 1px 1px 1px);\n",
       "  clip: rect(1px, 1px, 1px, 1px);\n",
       "  height: 1px;\n",
       "  margin: -1px;\n",
       "  overflow: hidden;\n",
       "  padding: 0;\n",
       "  position: absolute;\n",
       "  width: 1px;\n",
       "}\n",
       "\n",
       "#sk-container-id-1 div.sk-dashed-wrapped {\n",
       "  border: 1px dashed var(--sklearn-color-line);\n",
       "  margin: 0 0.4em 0.5em 0.4em;\n",
       "  box-sizing: border-box;\n",
       "  padding-bottom: 0.4em;\n",
       "  background-color: var(--sklearn-color-background);\n",
       "}\n",
       "\n",
       "#sk-container-id-1 div.sk-container {\n",
       "  /* jupyter's `normalize.less` sets `[hidden] { display: none; }`\n",
       "     but bootstrap.min.css set `[hidden] { display: none !important; }`\n",
       "     so we also need the `!important` here to be able to override the\n",
       "     default hidden behavior on the sphinx rendered scikit-learn.org.\n",
       "     See: https://github.com/scikit-learn/scikit-learn/issues/21755 */\n",
       "  display: inline-block !important;\n",
       "  position: relative;\n",
       "}\n",
       "\n",
       "#sk-container-id-1 div.sk-text-repr-fallback {\n",
       "  display: none;\n",
       "}\n",
       "\n",
       "div.sk-parallel-item,\n",
       "div.sk-serial,\n",
       "div.sk-item {\n",
       "  /* draw centered vertical line to link estimators */\n",
       "  background-image: linear-gradient(var(--sklearn-color-text-on-default-background), var(--sklearn-color-text-on-default-background));\n",
       "  background-size: 2px 100%;\n",
       "  background-repeat: no-repeat;\n",
       "  background-position: center center;\n",
       "}\n",
       "\n",
       "/* Parallel-specific style estimator block */\n",
       "\n",
       "#sk-container-id-1 div.sk-parallel-item::after {\n",
       "  content: \"\";\n",
       "  width: 100%;\n",
       "  border-bottom: 2px solid var(--sklearn-color-text-on-default-background);\n",
       "  flex-grow: 1;\n",
       "}\n",
       "\n",
       "#sk-container-id-1 div.sk-parallel {\n",
       "  display: flex;\n",
       "  align-items: stretch;\n",
       "  justify-content: center;\n",
       "  background-color: var(--sklearn-color-background);\n",
       "  position: relative;\n",
       "}\n",
       "\n",
       "#sk-container-id-1 div.sk-parallel-item {\n",
       "  display: flex;\n",
       "  flex-direction: column;\n",
       "}\n",
       "\n",
       "#sk-container-id-1 div.sk-parallel-item:first-child::after {\n",
       "  align-self: flex-end;\n",
       "  width: 50%;\n",
       "}\n",
       "\n",
       "#sk-container-id-1 div.sk-parallel-item:last-child::after {\n",
       "  align-self: flex-start;\n",
       "  width: 50%;\n",
       "}\n",
       "\n",
       "#sk-container-id-1 div.sk-parallel-item:only-child::after {\n",
       "  width: 0;\n",
       "}\n",
       "\n",
       "/* Serial-specific style estimator block */\n",
       "\n",
       "#sk-container-id-1 div.sk-serial {\n",
       "  display: flex;\n",
       "  flex-direction: column;\n",
       "  align-items: center;\n",
       "  background-color: var(--sklearn-color-background);\n",
       "  padding-right: 1em;\n",
       "  padding-left: 1em;\n",
       "}\n",
       "\n",
       "\n",
       "/* Toggleable style: style used for estimator/Pipeline/ColumnTransformer box that is\n",
       "clickable and can be expanded/collapsed.\n",
       "- Pipeline and ColumnTransformer use this feature and define the default style\n",
       "- Estimators will overwrite some part of the style using the `sk-estimator` class\n",
       "*/\n",
       "\n",
       "/* Pipeline and ColumnTransformer style (default) */\n",
       "\n",
       "#sk-container-id-1 div.sk-toggleable {\n",
       "  /* Default theme specific background. It is overwritten whether we have a\n",
       "  specific estimator or a Pipeline/ColumnTransformer */\n",
       "  background-color: var(--sklearn-color-background);\n",
       "}\n",
       "\n",
       "/* Toggleable label */\n",
       "#sk-container-id-1 label.sk-toggleable__label {\n",
       "  cursor: pointer;\n",
       "  display: block;\n",
       "  width: 100%;\n",
       "  margin-bottom: 0;\n",
       "  padding: 0.5em;\n",
       "  box-sizing: border-box;\n",
       "  text-align: center;\n",
       "}\n",
       "\n",
       "#sk-container-id-1 label.sk-toggleable__label-arrow:before {\n",
       "  /* Arrow on the left of the label */\n",
       "  content: \"▸\";\n",
       "  float: left;\n",
       "  margin-right: 0.25em;\n",
       "  color: var(--sklearn-color-icon);\n",
       "}\n",
       "\n",
       "#sk-container-id-1 label.sk-toggleable__label-arrow:hover:before {\n",
       "  color: var(--sklearn-color-text);\n",
       "}\n",
       "\n",
       "/* Toggleable content - dropdown */\n",
       "\n",
       "#sk-container-id-1 div.sk-toggleable__content {\n",
       "  max-height: 0;\n",
       "  max-width: 0;\n",
       "  overflow: hidden;\n",
       "  text-align: left;\n",
       "  /* unfitted */\n",
       "  background-color: var(--sklearn-color-unfitted-level-0);\n",
       "}\n",
       "\n",
       "#sk-container-id-1 div.sk-toggleable__content.fitted {\n",
       "  /* fitted */\n",
       "  background-color: var(--sklearn-color-fitted-level-0);\n",
       "}\n",
       "\n",
       "#sk-container-id-1 div.sk-toggleable__content pre {\n",
       "  margin: 0.2em;\n",
       "  border-radius: 0.25em;\n",
       "  color: var(--sklearn-color-text);\n",
       "  /* unfitted */\n",
       "  background-color: var(--sklearn-color-unfitted-level-0);\n",
       "}\n",
       "\n",
       "#sk-container-id-1 div.sk-toggleable__content.fitted pre {\n",
       "  /* unfitted */\n",
       "  background-color: var(--sklearn-color-fitted-level-0);\n",
       "}\n",
       "\n",
       "#sk-container-id-1 input.sk-toggleable__control:checked~div.sk-toggleable__content {\n",
       "  /* Expand drop-down */\n",
       "  max-height: 200px;\n",
       "  max-width: 100%;\n",
       "  overflow: auto;\n",
       "}\n",
       "\n",
       "#sk-container-id-1 input.sk-toggleable__control:checked~label.sk-toggleable__label-arrow:before {\n",
       "  content: \"▾\";\n",
       "}\n",
       "\n",
       "/* Pipeline/ColumnTransformer-specific style */\n",
       "\n",
       "#sk-container-id-1 div.sk-label input.sk-toggleable__control:checked~label.sk-toggleable__label {\n",
       "  color: var(--sklearn-color-text);\n",
       "  background-color: var(--sklearn-color-unfitted-level-2);\n",
       "}\n",
       "\n",
       "#sk-container-id-1 div.sk-label.fitted input.sk-toggleable__control:checked~label.sk-toggleable__label {\n",
       "  background-color: var(--sklearn-color-fitted-level-2);\n",
       "}\n",
       "\n",
       "/* Estimator-specific style */\n",
       "\n",
       "/* Colorize estimator box */\n",
       "#sk-container-id-1 div.sk-estimator input.sk-toggleable__control:checked~label.sk-toggleable__label {\n",
       "  /* unfitted */\n",
       "  background-color: var(--sklearn-color-unfitted-level-2);\n",
       "}\n",
       "\n",
       "#sk-container-id-1 div.sk-estimator.fitted input.sk-toggleable__control:checked~label.sk-toggleable__label {\n",
       "  /* fitted */\n",
       "  background-color: var(--sklearn-color-fitted-level-2);\n",
       "}\n",
       "\n",
       "#sk-container-id-1 div.sk-label label.sk-toggleable__label,\n",
       "#sk-container-id-1 div.sk-label label {\n",
       "  /* The background is the default theme color */\n",
       "  color: var(--sklearn-color-text-on-default-background);\n",
       "}\n",
       "\n",
       "/* On hover, darken the color of the background */\n",
       "#sk-container-id-1 div.sk-label:hover label.sk-toggleable__label {\n",
       "  color: var(--sklearn-color-text);\n",
       "  background-color: var(--sklearn-color-unfitted-level-2);\n",
       "}\n",
       "\n",
       "/* Label box, darken color on hover, fitted */\n",
       "#sk-container-id-1 div.sk-label.fitted:hover label.sk-toggleable__label.fitted {\n",
       "  color: var(--sklearn-color-text);\n",
       "  background-color: var(--sklearn-color-fitted-level-2);\n",
       "}\n",
       "\n",
       "/* Estimator label */\n",
       "\n",
       "#sk-container-id-1 div.sk-label label {\n",
       "  font-family: monospace;\n",
       "  font-weight: bold;\n",
       "  display: inline-block;\n",
       "  line-height: 1.2em;\n",
       "}\n",
       "\n",
       "#sk-container-id-1 div.sk-label-container {\n",
       "  text-align: center;\n",
       "}\n",
       "\n",
       "/* Estimator-specific */\n",
       "#sk-container-id-1 div.sk-estimator {\n",
       "  font-family: monospace;\n",
       "  border: 1px dotted var(--sklearn-color-border-box);\n",
       "  border-radius: 0.25em;\n",
       "  box-sizing: border-box;\n",
       "  margin-bottom: 0.5em;\n",
       "  /* unfitted */\n",
       "  background-color: var(--sklearn-color-unfitted-level-0);\n",
       "}\n",
       "\n",
       "#sk-container-id-1 div.sk-estimator.fitted {\n",
       "  /* fitted */\n",
       "  background-color: var(--sklearn-color-fitted-level-0);\n",
       "}\n",
       "\n",
       "/* on hover */\n",
       "#sk-container-id-1 div.sk-estimator:hover {\n",
       "  /* unfitted */\n",
       "  background-color: var(--sklearn-color-unfitted-level-2);\n",
       "}\n",
       "\n",
       "#sk-container-id-1 div.sk-estimator.fitted:hover {\n",
       "  /* fitted */\n",
       "  background-color: var(--sklearn-color-fitted-level-2);\n",
       "}\n",
       "\n",
       "/* Specification for estimator info (e.g. \"i\" and \"?\") */\n",
       "\n",
       "/* Common style for \"i\" and \"?\" */\n",
       "\n",
       ".sk-estimator-doc-link,\n",
       "a:link.sk-estimator-doc-link,\n",
       "a:visited.sk-estimator-doc-link {\n",
       "  float: right;\n",
       "  font-size: smaller;\n",
       "  line-height: 1em;\n",
       "  font-family: monospace;\n",
       "  background-color: var(--sklearn-color-background);\n",
       "  border-radius: 1em;\n",
       "  height: 1em;\n",
       "  width: 1em;\n",
       "  text-decoration: none !important;\n",
       "  margin-left: 1ex;\n",
       "  /* unfitted */\n",
       "  border: var(--sklearn-color-unfitted-level-1) 1pt solid;\n",
       "  color: var(--sklearn-color-unfitted-level-1);\n",
       "}\n",
       "\n",
       ".sk-estimator-doc-link.fitted,\n",
       "a:link.sk-estimator-doc-link.fitted,\n",
       "a:visited.sk-estimator-doc-link.fitted {\n",
       "  /* fitted */\n",
       "  border: var(--sklearn-color-fitted-level-1) 1pt solid;\n",
       "  color: var(--sklearn-color-fitted-level-1);\n",
       "}\n",
       "\n",
       "/* On hover */\n",
       "div.sk-estimator:hover .sk-estimator-doc-link:hover,\n",
       ".sk-estimator-doc-link:hover,\n",
       "div.sk-label-container:hover .sk-estimator-doc-link:hover,\n",
       ".sk-estimator-doc-link:hover {\n",
       "  /* unfitted */\n",
       "  background-color: var(--sklearn-color-unfitted-level-3);\n",
       "  color: var(--sklearn-color-background);\n",
       "  text-decoration: none;\n",
       "}\n",
       "\n",
       "div.sk-estimator.fitted:hover .sk-estimator-doc-link.fitted:hover,\n",
       ".sk-estimator-doc-link.fitted:hover,\n",
       "div.sk-label-container:hover .sk-estimator-doc-link.fitted:hover,\n",
       ".sk-estimator-doc-link.fitted:hover {\n",
       "  /* fitted */\n",
       "  background-color: var(--sklearn-color-fitted-level-3);\n",
       "  color: var(--sklearn-color-background);\n",
       "  text-decoration: none;\n",
       "}\n",
       "\n",
       "/* Span, style for the box shown on hovering the info icon */\n",
       ".sk-estimator-doc-link span {\n",
       "  display: none;\n",
       "  z-index: 9999;\n",
       "  position: relative;\n",
       "  font-weight: normal;\n",
       "  right: .2ex;\n",
       "  padding: .5ex;\n",
       "  margin: .5ex;\n",
       "  width: min-content;\n",
       "  min-width: 20ex;\n",
       "  max-width: 50ex;\n",
       "  color: var(--sklearn-color-text);\n",
       "  box-shadow: 2pt 2pt 4pt #999;\n",
       "  /* unfitted */\n",
       "  background: var(--sklearn-color-unfitted-level-0);\n",
       "  border: .5pt solid var(--sklearn-color-unfitted-level-3);\n",
       "}\n",
       "\n",
       ".sk-estimator-doc-link.fitted span {\n",
       "  /* fitted */\n",
       "  background: var(--sklearn-color-fitted-level-0);\n",
       "  border: var(--sklearn-color-fitted-level-3);\n",
       "}\n",
       "\n",
       ".sk-estimator-doc-link:hover span {\n",
       "  display: block;\n",
       "}\n",
       "\n",
       "/* \"?\"-specific style due to the `<a>` HTML tag */\n",
       "\n",
       "#sk-container-id-1 a.estimator_doc_link {\n",
       "  float: right;\n",
       "  font-size: 1rem;\n",
       "  line-height: 1em;\n",
       "  font-family: monospace;\n",
       "  background-color: var(--sklearn-color-background);\n",
       "  border-radius: 1rem;\n",
       "  height: 1rem;\n",
       "  width: 1rem;\n",
       "  text-decoration: none;\n",
       "  /* unfitted */\n",
       "  color: var(--sklearn-color-unfitted-level-1);\n",
       "  border: var(--sklearn-color-unfitted-level-1) 1pt solid;\n",
       "}\n",
       "\n",
       "#sk-container-id-1 a.estimator_doc_link.fitted {\n",
       "  /* fitted */\n",
       "  border: var(--sklearn-color-fitted-level-1) 1pt solid;\n",
       "  color: var(--sklearn-color-fitted-level-1);\n",
       "}\n",
       "\n",
       "/* On hover */\n",
       "#sk-container-id-1 a.estimator_doc_link:hover {\n",
       "  /* unfitted */\n",
       "  background-color: var(--sklearn-color-unfitted-level-3);\n",
       "  color: var(--sklearn-color-background);\n",
       "  text-decoration: none;\n",
       "}\n",
       "\n",
       "#sk-container-id-1 a.estimator_doc_link.fitted:hover {\n",
       "  /* fitted */\n",
       "  background-color: var(--sklearn-color-fitted-level-3);\n",
       "}\n",
       "</style><div id=\"sk-container-id-1\" class=\"sk-top-container\"><div class=\"sk-text-repr-fallback\"><pre>KNeighborsClassifier(n_neighbors=10)</pre><b>In a Jupyter environment, please rerun this cell to show the HTML representation or trust the notebook. <br />On GitHub, the HTML representation is unable to render, please try loading this page with nbviewer.org.</b></div><div class=\"sk-container\" hidden><div class=\"sk-item\"><div class=\"sk-estimator fitted sk-toggleable\"><input class=\"sk-toggleable__control sk-hidden--visually\" id=\"sk-estimator-id-1\" type=\"checkbox\" checked><label for=\"sk-estimator-id-1\" class=\"sk-toggleable__label fitted sk-toggleable__label-arrow fitted\">&nbsp;&nbsp;KNeighborsClassifier<a class=\"sk-estimator-doc-link fitted\" rel=\"noreferrer\" target=\"_blank\" href=\"https://scikit-learn.org/1.5/modules/generated/sklearn.neighbors.KNeighborsClassifier.html\">?<span>Documentation for KNeighborsClassifier</span></a><span class=\"sk-estimator-doc-link fitted\">i<span>Fitted</span></span></label><div class=\"sk-toggleable__content fitted\"><pre>KNeighborsClassifier(n_neighbors=10)</pre></div> </div></div></div></div>"
      ],
      "text/plain": [
       "KNeighborsClassifier(n_neighbors=10)"
      ]
     },
     "execution_count": 15,
     "metadata": {},
     "output_type": "execute_result"
    }
   ],
   "source": [
    "knn = KNeighborsClassifier(n_neighbors=10)\n",
    "\n",
    "knn.fit(X_train_norm, y_train)"
   ]
  },
  {
   "cell_type": "code",
   "execution_count": 16,
   "metadata": {},
   "outputs": [
    {
     "data": {
      "text/plain": [
       "0.7378640776699029"
      ]
     },
     "execution_count": 16,
     "metadata": {},
     "output_type": "execute_result"
    }
   ],
   "source": [
    "knn.score(X_test_norm, y_test)"
   ]
  },
  {
   "cell_type": "code",
   "execution_count": 17,
   "metadata": {},
   "outputs": [
    {
     "data": {
      "text/plain": [
       "array([0, 0, 1, ..., 1, 0, 1])"
      ]
     },
     "execution_count": 17,
     "metadata": {},
     "output_type": "execute_result"
    }
   ],
   "source": [
    "knn.predict(X_test_norm)"
   ]
  },
  {
   "cell_type": "markdown",
   "metadata": {},
   "source": [
    "<h1>Logistic Regression</h1>"
   ]
  },
  {
   "cell_type": "code",
   "execution_count": 24,
   "metadata": {},
   "outputs": [
    {
     "name": "stdout",
     "output_type": "stream",
     "text": [
      "Predictions: [0 1 1 ... 1 0 1]\n",
      "Accuracy: 0.8084391336818522\n",
      "F1 Score: 0.8084333631228355\n",
      "Confusion Matrix:\n",
      " [[2129  519]\n",
      " [ 507 2201]]\n"
     ]
    }
   ],
   "source": [
    "# Initialize and fit the Logistic Regression model\n",
    "log_reg = LogisticRegression(max_iter=1000)  \n",
    "log_reg.fit(X_train_norm, y_train)\n",
    "\n",
    "# Make predictions\n",
    "y_pred_log_reg = log_reg.predict(X_test_norm)\n",
    "\n",
    "# Calculate accuracy\n",
    "accuracy_log_reg = accuracy_score(y_test, y_pred_log_reg)\n",
    "\n",
    "# Calculate F1 score\n",
    "f1_log_reg = f1_score(y_test, y_pred_log_reg, average='weighted')  # Use 'macro' or 'micro' if needed\n",
    "\n",
    "# Calculate confusion matrix\n",
    "confusion_log_reg = confusion_matrix(y_test, y_pred_log_reg)\n",
    "\n",
    "# Print the results\n",
    "print(\"Predictions:\", y_pred_log_reg)\n",
    "print(\"Accuracy:\", accuracy_log_reg)\n",
    "print(\"F1 Score:\", f1_log_reg)\n",
    "print(\"Confusion Matrix:\\n\", confusion_log_reg)"
   ]
  },
  {
   "cell_type": "code",
   "execution_count": 25,
   "metadata": {},
   "outputs": [
    {
     "name": "stderr",
     "output_type": "stream",
     "text": [
      "c:\\Users\\Nutzer\\AppData\\Local\\Programs\\Python\\Python312\\Lib\\site-packages\\sklearn\\ensemble\\_weight_boosting.py:527: FutureWarning: The SAMME.R algorithm (the default) is deprecated and will be removed in 1.6. Use the SAMME algorithm to circumvent this warning.\n",
      "  warnings.warn(\n"
     ]
    },
    {
     "name": "stdout",
     "output_type": "stream",
     "text": [
      "Predictions: [0 1 1 ... 1 0 1]\n",
      "Accuracy: 0.761949215832711\n",
      "F1 Score: 0.7619476472393389\n",
      "Confusion Matrix:\n",
      " [[2009  639]\n",
      " [ 636 2072]]\n"
     ]
    }
   ],
   "source": [
    "from sklearn.ensemble import AdaBoostClassifier\n",
    "\n",
    "# Initialize the Logistic Regression model\n",
    "log_reg = LogisticRegression(max_iter=1000)\n",
    "\n",
    "# Initialize the AdaBoost Classifier with Logistic Regression as the base estimator\n",
    "ada_boost = AdaBoostClassifier(estimator=log_reg, n_estimators=100)\n",
    "\n",
    "# Fit the AdaBoost model on the training data\n",
    "ada_boost.fit(X_train_norm, y_train)\n",
    "\n",
    "# Make predictions on the test data\n",
    "y_pred_ada = ada_boost.predict(X_test_norm)\n",
    "\n",
    "# Calculate accuracy\n",
    "accuracy_ada = accuracy_score(y_test, y_pred_ada)\n",
    "\n",
    "# Calculate F1 score\n",
    "f1_ada = f1_score(y_test, y_pred_ada, average='weighted')  # Use 'macro' or 'micro' if needed\n",
    "\n",
    "# Calculate confusion matrix\n",
    "confusion_ada = confusion_matrix(y_test, y_pred_ada)\n",
    "\n",
    "# Print the results\n",
    "print(\"Predictions:\", y_pred_ada)\n",
    "print(\"Accuracy:\", accuracy_ada)\n",
    "print(\"F1 Score:\", f1_ada)\n",
    "print(\"Confusion Matrix:\\n\", confusion_ada)"
   ]
  },
  {
   "cell_type": "code",
   "execution_count": 26,
   "metadata": {},
   "outputs": [
    {
     "name": "stdout",
     "output_type": "stream",
     "text": [
      "Predictions: [0 1 1 ... 1 0 1]\n",
      "Accuracy: 0.8114264376400299\n",
      "F1 Score: 0.811417206424451\n",
      "Confusion Matrix:\n",
      " [[2134  514]\n",
      " [ 496 2212]]\n"
     ]
    }
   ],
   "source": [
    "from sklearn.ensemble import GradientBoostingClassifier\n",
    "\n",
    "# Initialize the Logistic Regression model\n",
    "log_reg = LogisticRegression(max_iter=1000)\n",
    "\n",
    "# Initialize the Gradient Boosting Classifier with Logistic Regression as the base estimator\n",
    "grad_boost = GradientBoostingClassifier(n_estimators=100, max_depth=3, learning_rate=0.17)\n",
    "\n",
    "# Fit the Gradient Boosting model on the training data\n",
    "grad_boost.fit(X_train_norm, y_train)\n",
    "\n",
    "# Make predictions on the test data\n",
    "y_pred_grad = grad_boost.predict(X_test_norm)\n",
    "\n",
    "# Calculate accuracy\n",
    "accuracy_grad = accuracy_score(y_test, y_pred_grad)\n",
    "\n",
    "# Calculate F1 score\n",
    "f1_grad = f1_score(y_test, y_pred_grad, average='weighted')  # Use 'macro' or 'micro' if needed\n",
    "\n",
    "# Calculate confusion matrix\n",
    "confusion_grad = confusion_matrix(y_test, y_pred_grad)\n",
    "\n",
    "# Print the results\n",
    "print(\"Predictions:\", y_pred_grad)\n",
    "print(\"Accuracy:\", accuracy_grad)\n",
    "print(\"F1 Score:\", f1_grad)\n",
    "print(\"Confusion Matrix:\\n\", confusion_grad)"
   ]
  },
  {
   "cell_type": "markdown",
   "metadata": {},
   "source": [
    "<h1>DECISION TREE</h1>"
   ]
  },
  {
   "cell_type": "code",
   "execution_count": 27,
   "metadata": {},
   "outputs": [
    {
     "data": {
      "text/plain": [
       "array([0, 1, 1, ..., 1, 0, 1])"
      ]
     },
     "execution_count": 27,
     "metadata": {},
     "output_type": "execute_result"
    }
   ],
   "source": [
    "from sklearn.tree import DecisionTreeClassifier\n",
    "\n",
    "\n",
    "# Initialize and fit the model\n",
    "tree_clf = DecisionTreeClassifier()\n",
    "tree_clf.fit(X_train_norm, y_train)\n",
    "\n",
    "# Make predictions\n",
    "y_pred_tree = tree_clf.predict(X_test_norm)\n",
    "y_pred_tree"
   ]
  },
  {
   "cell_type": "code",
   "execution_count": 28,
   "metadata": {},
   "outputs": [
    {
     "data": {
      "text/plain": [
       "0.7255414488424197"
      ]
     },
     "execution_count": 28,
     "metadata": {},
     "output_type": "execute_result"
    }
   ],
   "source": [
    "tree_clf.score(X_test_norm, y_test)"
   ]
  },
  {
   "cell_type": "code",
   "execution_count": 29,
   "metadata": {},
   "outputs": [
    {
     "data": {
      "text/plain": [
       "0.7255414488424197"
      ]
     },
     "execution_count": 29,
     "metadata": {},
     "output_type": "execute_result"
    }
   ],
   "source": [
    "accuracy = accuracy_score(y_test, y_pred_tree)\n",
    "accuracy"
   ]
  },
  {
   "cell_type": "markdown",
   "metadata": {},
   "source": [
    "<h1>Random Forest</h1>"
   ]
  },
  {
   "cell_type": "code",
   "execution_count": 30,
   "metadata": {},
   "outputs": [
    {
     "name": "stdout",
     "output_type": "stream",
     "text": [
      "Predictions: [0 1 1 ... 0 0 1]\n",
      "Accuracy: 0.8056385362210605\n",
      "F1 Score: 0.8056332437757147\n",
      "Confusion Matrix:\n",
      " [[2122  526]\n",
      " [ 515 2193]]\n"
     ]
    }
   ],
   "source": [
    "from sklearn.metrics import accuracy_score, f1_score, confusion_matrix\n",
    "from sklearn.ensemble import RandomForestClassifier\n",
    "\n",
    "# Initialize and fit the model\n",
    "rf_clf = RandomForestClassifier()\n",
    "rf_clf.fit(X_train_norm, y_train)\n",
    "\n",
    "# Make predictions\n",
    "y_pred_rf = rf_clf.predict(X_test_norm)\n",
    "\n",
    "# Calculate accuracy\n",
    "accuracy_rf = accuracy_score(y_test, y_pred_rf)\n",
    "\n",
    "# Calculate F1 score\n",
    "f1_rf = f1_score(y_test, y_pred_rf, average='weighted')  # Use 'macro' or 'micro' depending on your needs\n",
    "\n",
    "# Calculate confusion matrix\n",
    "confusion_rf = confusion_matrix(y_test, y_pred_rf)\n",
    "\n",
    "# Print\n",
    "print(\"Predictions:\", y_pred_rf)\n",
    "print(\"Accuracy:\", accuracy_rf)\n",
    "print(\"F1 Score:\", f1_rf)\n",
    "print(\"Confusion Matrix:\\n\", confusion_rf)"
   ]
  },
  {
   "cell_type": "markdown",
   "metadata": {},
   "source": [
    "Tuning Random Forest with GridSearch"
   ]
  },
  {
   "cell_type": "code",
   "execution_count": 45,
   "metadata": {},
   "outputs": [
    {
     "name": "stdout",
     "output_type": "stream",
     "text": [
      "Best Parameters for Random Forest: {'max_depth': 15, 'max_features': 'sqrt', 'min_samples_leaf': 1, 'min_samples_split': 10, 'n_estimators': 100}\n",
      "Random Forest Accuracy after Tuning: 0.63\n"
     ]
    }
   ],
   "source": [
    "# Define parameter grid for GridSearch\n",
    "param_grid_rf = {\n",
    "    'n_estimators': [30, 50, 100, 150],       # More granular and smaller number of trees\n",
    "    'max_depth': [5, 10, 15],                 # Reduced depth to avoid overfitting\n",
    "    'min_samples_split': [2, 4, 6, 10],       # More values for more flexibility\n",
    "    'max_features': ['sqrt', 'log2', None],   # Experiment with different numbers of features considered at each split\n",
    "    'min_samples_leaf': [1, 2, 4]             # Minimum samples at each leaf to avoid overfitting\n",
    "}\n",
    "\n",
    "# Grid Search to tune Random Forest\n",
    "grid_search_rf = GridSearchCV(estimator=rf_clf, param_grid=param_grid_rf, scoring='accuracy', cv=5)\n",
    "grid_search_rf.fit(X_train_norm, y_train)\n",
    "\n",
    "\n",
    "# Best hyperparameters and accuracy\n",
    "best_params_rf = grid_search_rf.best_params_\n",
    "print(f'Best Parameters for Random Forest: {best_params_rf}')\n",
    "rf_best_model = grid_search_rf.best_estimator_\n",
    "rf_pred = rf_best_model.predict(X_test)\n",
    "rf_accuracy = accuracy_score(y_test, rf_pred)\n",
    "print(f'Random Forest Accuracy after Tuning: {rf_accuracy:.2f}')\n",
    "\n"
   ]
  },
  {
   "cell_type": "code",
   "execution_count": 38,
   "metadata": {},
   "outputs": [
    {
     "name": "stdout",
     "output_type": "stream",
     "text": [
      "Predictions: [0 1 1 ... 0 0 1]\n",
      "Accuracy: 0.8076923076923077\n",
      "F1 Score: 0.8076487399257588\n",
      "Confusion Matrix:\n",
      " [[2105  543]\n",
      " [ 487 2221]]\n"
     ]
    }
   ],
   "source": [
    "bagging_clf = BaggingClassifier(estimator=rf_clf, n_estimators=15)\n",
    "bagging_clf.fit(X_train_norm, y_train)\n",
    "\n",
    "# Make predictions\n",
    "y_pred_bagging = bagging_clf.predict(X_test_norm)\n",
    "\n",
    "# Calculate accuracy\n",
    "accuracy_bagging = accuracy_score(y_test, y_pred_bagging)\n",
    "\n",
    "# Calculate F1 score\n",
    "f1_bagging = f1_score(y_test, y_pred_bagging, average='weighted')  # Use 'macro' or 'micro' depending on your needs\n",
    "\n",
    "# Calculate confusion matrix\n",
    "confusion_bagging = confusion_matrix(y_test, y_pred_bagging)\n",
    "\n",
    "# Print results\n",
    "print(\"Predictions:\", y_pred_bagging)\n",
    "print(\"Accuracy:\", accuracy_bagging)\n",
    "print(\"F1 Score:\", f1_bagging)\n",
    "print(\"Confusion Matrix:\\n\", confusion_bagging)\n"
   ]
  },
  {
   "cell_type": "markdown",
   "metadata": {},
   "source": [
    "<h1>Stacking</h1>"
   ]
  },
  {
   "cell_type": "code",
   "execution_count": 39,
   "metadata": {},
   "outputs": [
    {
     "name": "stdout",
     "output_type": "stream",
     "text": [
      "Predictions: [0 1 1 ... 1 0 1]\n",
      "Accuracy: 0.8095593726661687\n",
      "F1 Score: 0.8095459858953016\n",
      "Confusion Matrix:\n",
      " [[2126  522]\n",
      " [ 498 2210]]\n"
     ]
    }
   ],
   "source": [
    "from sklearn.ensemble import StackingClassifier\n",
    "\n",
    "# Initialize the stacking classifier\n",
    "stacking_clf = StackingClassifier(\n",
    "    estimators=[('rf', rf_clf), ('log_reg', log_reg)],\n",
    "    final_estimator=LogisticRegression(max_iter=1000)  # Meta-model\n",
    ")\n",
    "\n",
    "# Fit the stacking classifier on the training data\n",
    "stacking_clf.fit(X_train_norm, y_train)\n",
    "\n",
    "# Make predictions on the test data\n",
    "y_pred_stack = stacking_clf.predict(X_test_norm)\n",
    "\n",
    "# Calculate accuracy\n",
    "accuracy_stack = accuracy_score(y_test, y_pred_stack)\n",
    "\n",
    "# Calculate F1 score\n",
    "f1_stack = f1_score(y_test, y_pred_stack, average='weighted')  # Use 'macro' or 'micro' if needed\n",
    "\n",
    "# Calculate confusion matrix\n",
    "confusion_stack = confusion_matrix(y_test, y_pred_stack)\n",
    "\n",
    "# Print the results\n",
    "print(\"Predictions:\", y_pred_stack)\n",
    "print(\"Accuracy:\", accuracy_stack)\n",
    "print(\"F1 Score:\", f1_stack)\n",
    "print(\"Confusion Matrix:\\n\", confusion_stack)"
   ]
  },
  {
   "cell_type": "code",
   "execution_count": 40,
   "metadata": {},
   "outputs": [
    {
     "name": "stdout",
     "output_type": "stream",
     "text": [
      "Accuracy: 0.8095593726661687\n",
      "              precision    recall  f1-score   support\n",
      "\n",
      "           0       0.81      0.80      0.81      2648\n",
      "           1       0.81      0.82      0.81      2708\n",
      "\n",
      "    accuracy                           0.81      5356\n",
      "   macro avg       0.81      0.81      0.81      5356\n",
      "weighted avg       0.81      0.81      0.81      5356\n",
      "\n",
      "Precision: 0.8089311859443631\n",
      "Recall: 0.8161004431314623\n"
     ]
    },
    {
     "data": {
      "image/png": "[encoded data removed]",
      "text/plain": [
       "<Figure size 640x480 with 2 Axes>"
      ]
     },
     "metadata": {},
     "output_type": "display_data"
    }
   ],
   "source": [
    "from sklearn.metrics import classification_report, ConfusionMatrixDisplay\n",
    "\n",
    "# Define the evaluate_model function\n",
    "def evaluate_model(model, x_test_norm, y_test, y_pred_stack):\n",
    "    print(\"Accuracy:\", model.score(x_test_norm, y_test))\n",
    "    print(classification_report(y_pred=y_pred_stack, y_true=y_test))\n",
    "    cm = confusion_matrix(y_test, y_pred_stack, labels=model.classes_)\n",
    "    disp = ConfusionMatrixDisplay(cm)\n",
    "    disp.plot()\n",
    "    tn, fp, fn, tp = cm.ravel()\n",
    "    precision = tp / (tp + fp) if (tp + fp) != 0 else 0\n",
    "    recall = tp / (tp + fn) if (tp + fn) != 0 else 0\n",
    "    print(\"Precision:\", precision)\n",
    "    print(\"Recall:\", recall)\n",
    "\n",
    "# Use the evaluate_model function to print evaluation metrics for the stacking model\n",
    "evaluate_model(stacking_clf, X_test_norm, y_test, y_pred_stack)"
   ]
  },
  {
   "cell_type": "markdown",
   "metadata": {},
   "source": [
    "<h1>Support Vector Machine</h1>"
   ]
  },
  {
   "cell_type": "code",
   "execution_count": 41,
   "metadata": {},
   "outputs": [
    {
     "data": {
      "text/plain": [
       "array([0, 1, 1, ..., 1, 0, 1])"
      ]
     },
     "execution_count": 41,
     "metadata": {},
     "output_type": "execute_result"
    }
   ],
   "source": [
    "from sklearn.svm import SVC\n",
    "\n",
    "# Initialize and fit the model\n",
    "svm_clf = SVC(probability=True)  # Set probability=True to enable probability predictions\n",
    "svm_clf.fit(X_train_norm, y_train)\n",
    "\n",
    "# Make predictions\n",
    "y_pred_svm = svm_clf.predict(X_test_norm)\n",
    "y_pred_svm"
   ]
  },
  {
   "cell_type": "code",
   "execution_count": 42,
   "metadata": {},
   "outputs": [
    {
     "data": {
      "text/plain": [
       "0.7972367438386856"
      ]
     },
     "execution_count": 42,
     "metadata": {},
     "output_type": "execute_result"
    }
   ],
   "source": [
    "# Calculate accuracy\n",
    "accuracy_svm = accuracy_score(y_test, y_pred_svm)\n",
    "accuracy_svm"
   ]
  },
  {
   "cell_type": "code",
   "execution_count": null,
   "metadata": {},
   "outputs": [],
   "source": []
  }
 ],
 "metadata": {
  "kernelspec": {
   "display_name": "Python 3",
   "language": "python",
   "name": "python3"
  },
  "language_info": {
   "codemirror_mode": {
    "name": "ipython",
    "version": 3
   },
   "file_extension": ".py",
   "mimetype": "text/x-python",
   "name": "python",
   "nbconvert_exporter": "python",
   "pygments_lexer": "ipython3",
   "version": "3.12.2"
  }
 },
 "nbformat": 4,
 "nbformat_minor": 4
}
