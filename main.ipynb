{
 "cells": [
  {
   "cell_type": "code",
   "execution_count": 5,
   "metadata": {},
   "outputs": [],
   "source": [
    "import kaggle\n",
    "from sklearn import *\n",
    "import pandas as pd\n",
    "import seaborn as sns\n",
    "import kagglehub\n",
    "from kaggle.api.kaggle_api_extended import KaggleApi"
   ]
  },
  {
   "cell_type": "code",
   "execution_count": 6,
   "metadata": {},
   "outputs": [
    {
     "name": "stdout",
     "output_type": "stream",
     "text": [
      "Warning: Your Kaggle API key is readable by other users on this system! To fix this, you can run 'chmod 600 /Users/linh/.kaggle/kaggle.json'\n",
      "Next Page Token = CfDJ8CXYA35d3CRDujxBNSrCTMu8GK_IK7YyR08nbJLcrG1mCuS1UGQUSy6dyK8qWGQacrVrHiitCEswFJnOiiWQRfM\n",
      "    id  ref                                         title                             subtitle                                                                                                                                                                                                              author                  \n",
      "------  ------------------------------------------  --------------------------------  --------------------------------------------------------------------------------------------------------------------------------------------------------------------------------------------------------------------  ----------------------  \n",
      "121027  metaresearch/llama-3.2                      Llama 3.2                         The Meta Llama 3.2 collection of multilingual large language models (LLMs) is a collection of pretrained and instruction-tuned generative models in 1B and 3B sizes (text in/text out).                               Meta                    \n",
      "145528  cohereforai/aya-expanse                     Aya Expanse                       Aya Expanse advances the state-of-the-art in multilingual capabilities to help bridge language gaps with AI.                                                                                                          CohereForAI             \n",
      "121954  google/gemma-2-2b-jpn-it                    Gemma 2 2b JPN IT                 Gemma is a family of lightweight, state-of-the-art open models from Google, built from the same research and technology used to create the Gemini models.                                                             Google                  \n",
      "121030  metaresearch/llama-3.2-vision               Llama 3.2 Vision                  The Llama 3.2-Vision collection of multimodal large language models (LLMs) is a collection of pretrained and instruction-tuned image reasoning generative models in 11B and 90B sizes (text + images in / text out).  Meta                    \n",
      "  3301  google/gemma                                Gemma                             Gemma is a family of lightweight, open models built from the research and technology that Google used to create the Gemini models.                                                                                    Google                  \n",
      "127417  abdullahmeda/qwen2.5                        Qwen2.5                                                                                                                                                                                                                                                 Abdullah Meda           \n",
      "123481  takanashihumbert/qwen2.5                    Qwen2.5                                                                                                                                                                                                                                                 Joseph                  \n",
      "141350  ultralytics/yolo11                          Ultralytics YOLO11                Ultralytics YOLO 🚀 for SOTA object detection, multi-object tracking, instance segmentation, pose estimation and image classification.                                                                                 Ultralytics             \n",
      "123513  richolson/phi-3.5-mini-instruct             Phi-3.5-mini-instruct                                                                                                                                                                                                                                   Rich Olson              \n",
      "  3533  keras/gemma                                 Gemma                             Keras implementation of the Gemma model. This Keras 3 implementation will run on JAX, TensorFlow and PyTorch.                                                                                                         Keras                   \n",
      "128845  jonathanchan/baai                           BAAI                                                                                                                                                                                                                                                    Jonathan Chan           \n",
      "116117  madhuraatmarambhagat/images                 YOLO Algorithm                    Pretrained YOLO model                                                                                                                                                                                                 Madhura Atmaram Bhagat  \n",
      "141362  ultralytics/yolov5                          Ultralytics YOLOv5                Ultralytics YOLO 🚀 for SOTA object detection, multi-object tracking, instance segmentation, pose estimation and image classification.                                                                                 Ultralytics             \n",
      " 78150  keras/gemma2                                Gemma 2                           Keras implementation of the Gemma 2 model. This Keras 3 implementation will run on JAX, TensorFlow and PyTorch.                                                                                                       Keras                   \n",
      " 91102  metaresearch/llama-3.1                      Llama 3.1                         The Meta Llama 3.1 collection of multilingual large language models (LLMs) is a collection of pretrained and instruction tuned generative models in 8B, 70B and 405B sizes (text in/text out).                        Meta                    \n",
      "129562  sujaymann/handwritten-character-classifier  Handwritten Character Classifier  VGG19 Model with Custom Dense Layers trained on a custom dataset                                                                                                                                                      Sujay Mann              \n",
      "128069  marquis03/qwen2.5                           Qwen2.5                           the latest series of Qwen large language models                                                                                                                                                                       Marquis03               \n",
      "141013  ultralytics/yolov8                          Ultralytics YOLOv8                Ultralytics YOLO 🚀 for SOTA object detection, multi-object tracking, instance segmentation, pose estimation and image classification.                                                                                 Ultralytics             \n",
      " 76277  google/gemma-2                              Gemma 2                           Gemma is a family of lightweight, state-of-the-art open models from Google, built from the same research and technology used to create the Gemini models.                                                             Google                  \n",
      "128029  madhuraatmarambhagat/yolov8                 YOLOv8                            Object Detection Algorithm                                                                                                                                                                                            Madhura Atmaram Bhagat  \n",
      "Dataset URL: https://www.kaggle.com/datasets/prathamtripathi/drug-classification\n"
     ]
    }
   ],
   "source": [
    "# Initiliaze API\n",
    "api = KaggleApi()\n",
    "api.authenticate()\n",
    "api.model_list_cli()\n",
    "\n",
    "# Donwload Dataset via API unzipped\n",
    "api.dataset_download_files(dataset=\"prathamtripathi/drug-classification\", unzip=True)\n"
   ]
  },
  {
   "cell_type": "code",
   "execution_count": null,
   "metadata": {},
   "outputs": [],
   "source": []
  },
  {
   "cell_type": "code",
   "execution_count": null,
   "metadata": {},
   "outputs": [],
   "source": []
  }
 ],
 "metadata": {
  "kernelspec": {
   "display_name": "base",
   "language": "python",
   "name": "python3"
  },
  "language_info": {
   "codemirror_mode": {
    "name": "ipython",
    "version": 3
   },
   "file_extension": ".py",
   "mimetype": "text/x-python",
   "name": "python",
   "nbconvert_exporter": "python",
   "pygments_lexer": "ipython3",
   "version": "3.12.4"
  }
 },
 "nbformat": 4,
 "nbformat_minor": 2
}
